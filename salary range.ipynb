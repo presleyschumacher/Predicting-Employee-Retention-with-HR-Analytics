{
 "cells": [
  {
   "cell_type": "code",
   "execution_count": 1,
   "id": "500ae793-38d8-4357-bf9e-8ef35954ad1d",
   "metadata": {},
   "outputs": [],
   "source": [
    "import pandas as pd\n",
    "df = pd.read_csv(\"people_data_clean.csv\")"
   ]
  },
  {
   "cell_type": "code",
   "execution_count": 6,
   "id": "f3201c7a-df34-415f-9876-025d14a51a11",
   "metadata": {},
   "outputs": [
    {
     "name": "stdout",
     "output_type": "stream",
     "text": [
      "25%    67797.25\n",
      "50%    77359.50\n",
      "75%    88466.25\n",
      "Name: Salary, dtype: float64\n"
     ]
    }
   ],
   "source": [
    "percentiles = df['Salary'].describe(percentiles=[.25, .5, .75])\n",
    "print(percentiles[['25%', '50%', '75%']])"
   ]
  }
 ],
 "metadata": {
  "kernelspec": {
   "display_name": "Python 3 (ipykernel)",
   "language": "python",
   "name": "python3"
  },
  "language_info": {
   "codemirror_mode": {
    "name": "ipython",
    "version": 3
   },
   "file_extension": ".py",
   "mimetype": "text/x-python",
   "name": "python",
   "nbconvert_exporter": "python",
   "pygments_lexer": "ipython3",
   "version": "3.10.8"
  }
 },
 "nbformat": 4,
 "nbformat_minor": 5
}
