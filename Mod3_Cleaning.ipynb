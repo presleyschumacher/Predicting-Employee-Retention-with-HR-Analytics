{
 "cells": [
  {
   "cell_type": "code",
   "execution_count": 1,
   "id": "58915bed-ec33-4eec-93db-24dfdc8d67f1",
   "metadata": {},
   "outputs": [],
   "source": [
    "# import libraries\n",
    "import pandas as pd\n",
    "\n",
    "# import dataframe\n",
    "df = pd.read_csv(\"people_analytics_updated.csv\")"
   ]
  },
  {
   "cell_type": "code",
   "execution_count": 12,
   "id": "0e5fb559-1769-49b1-bdcc-f310ceee6525",
   "metadata": {},
   "outputs": [
    {
     "name": "stdout",
     "output_type": "stream",
     "text": [
      "(4138, 20)\n"
     ]
    }
   ],
   "source": [
    "# df.shape shows us the total number of rows and columns\n",
    "print(df.shape)"
   ]
  },
  {
   "cell_type": "code",
   "execution_count": 3,
   "id": "d2ebf386-8f29-4eb1-99dd-1aa3b9ff5a3b",
   "metadata": {},
   "outputs": [
    {
     "name": "stdout",
     "output_type": "stream",
     "text": [
      "<class 'pandas.core.frame.DataFrame'>\n",
      "RangeIndex: 4138 entries, 0 to 4137\n",
      "Data columns (total 24 columns):\n",
      " #   Column                Non-Null Count  Dtype  \n",
      "---  ------                --------------  -----  \n",
      " 0   employee_id           4138 non-null   int64  \n",
      " 1   department            4138 non-null   int64  \n",
      " 2   sub-department        4138 non-null   float64\n",
      " 3   first_level_manager   4138 non-null   object \n",
      " 4   second_level_manager  4030 non-null   float64\n",
      " 5   third_level_manager   3679 non-null   object \n",
      " 6   fourth_level_manager  3093 non-null   float64\n",
      " 7   job_level             4138 non-null   object \n",
      " 8   gender                4138 non-null   object \n",
      " 9   sexual_orientation    4138 non-null   object \n",
      " 10  race                  4138 non-null   object \n",
      " 11  age                   4138 non-null   int64  \n",
      " 12  education             4138 non-null   object \n",
      " 13  location              4138 non-null   object \n",
      " 14  location_city         4138 non-null   object \n",
      " 15  marital_status        4138 non-null   object \n",
      " 16  employment_status     4138 non-null   object \n",
      " 17  salary                4138 non-null   int64  \n",
      " 18  hire_date             4138 non-null   object \n",
      " 19  term_date             4138 non-null   object \n",
      " 20  years_of_service      4138 non-null   int64  \n",
      " 21  term_type             4138 non-null   object \n",
      " 22  term_reason           4138 non-null   object \n",
      " 23  Employee Status       4138 non-null   int64  \n",
      "dtypes: float64(3), int64(6), object(15)\n",
      "memory usage: 776.0+ KB\n"
     ]
    }
   ],
   "source": [
    "# print information about the DataFrame \n",
    "df.info()"
   ]
  },
  {
   "cell_type": "code",
   "execution_count": 4,
   "id": "8ece5117-7b64-48ee-999c-e71132c90726",
   "metadata": {},
   "outputs": [],
   "source": [
    "# Remove the first-fourth level manager columns by using df.drop\n",
    "df = df.drop('first_level_manager', axis=1)\n",
    "df = df.drop('second_level_manager', axis=1)\n",
    "df = df.drop('third_level_manager', axis=1)\n",
    "df = df.drop('fourth_level_manager', axis=1)"
   ]
  },
  {
   "cell_type": "code",
   "execution_count": 6,
   "id": "8c636246-6c15-413d-8c46-4e4a5513683c",
   "metadata": {},
   "outputs": [
    {
     "data": {
      "text/plain": [
       "0              3409\n",
       "Voluntary       599\n",
       "Involuntary     130\n",
       "Name: term_type, dtype: int64"
      ]
     },
     "execution_count": 6,
     "metadata": {},
     "output_type": "execute_result"
    }
   ],
   "source": [
    "# The primary objective of the project is to predict voluntary turnover, so let's see how much data\n",
    "# there is of involuntary. If there isn't a signifcant amount, these rows related to involuntary turnover can be deleted\n",
    "\n",
    "df['term_type'].value_counts()"
   ]
  },
  {
   "cell_type": "code",
   "execution_count": 9,
   "id": "95cc2b22-9790-4970-83a1-ea6e329918b8",
   "metadata": {},
   "outputs": [
    {
     "data": {
      "text/plain": [
       "0              0.823828\n",
       "Voluntary      0.144756\n",
       "Involuntary    0.031416\n",
       "Name: term_type, dtype: float64"
      ]
     },
     "execution_count": 9,
     "metadata": {},
     "output_type": "execute_result"
    }
   ],
   "source": [
    "# Same data as above in percentages\n",
    "# Involuntary resignations only make up of 3% of the total data\n",
    "df['term_type'].value_counts(normalize=True)"
   ]
  },
  {
   "cell_type": "code",
   "execution_count": 16,
   "id": "9f233301-61c1-47df-b839-7c8b444fd68d",
   "metadata": {},
   "outputs": [],
   "source": [
    "# drop the rows that contain involuntary in the term_type column\n",
    "df.drop(df[df['term_type'] == 'Involuntary'].index, inplace = True)"
   ]
  },
  {
   "cell_type": "code",
   "execution_count": 17,
   "id": "5c02717e-e43e-43d0-869c-97a57e5fa981",
   "metadata": {},
   "outputs": [
    {
     "name": "stdout",
     "output_type": "stream",
     "text": [
      "(4008, 20)\n"
     ]
    }
   ],
   "source": [
    "# double check the number of rows. \n",
    "# 4138 original - 130 containing involuntary resignations, = 4008 rows\n",
    "print(df.shape)"
   ]
  },
  {
   "cell_type": "code",
   "execution_count": null,
   "id": "986b2da8-5b30-4663-b7e2-5588b024f121",
   "metadata": {},
   "outputs": [],
   "source": [
    "# Start label coding all columns that are object types except the hire_date and term_date columns"
   ]
  },
  {
   "cell_type": "code",
   "execution_count": 18,
   "id": "e80fbc40-74aa-48f8-b42d-e778e77858cd",
   "metadata": {},
   "outputs": [
    {
     "name": "stdout",
     "output_type": "stream",
     "text": [
      "[0 1 2 3 4]\n"
     ]
    }
   ],
   "source": [
    "df = df.replace({'job_level' : {'Manager': 0, 'Individual Contributor': 1, 'Team Lead': 2, 'Director': 3, 'CEO': 4}})\n",
    "\n",
    "print(df['job_level'].unique())"
   ]
  },
  {
   "cell_type": "code",
   "execution_count": 20,
   "id": "98c17c37-e7d7-44f7-8049-0335f7c2829b",
   "metadata": {},
   "outputs": [
    {
     "name": "stdout",
     "output_type": "stream",
     "text": [
      "[0 1 2]\n"
     ]
    }
   ],
   "source": [
    "df = df.replace({'gender' : {'Male': 0, 'Female': 1, 'Other': 2}})\n",
    "\n",
    "print(df['gender'].unique())"
   ]
  },
  {
   "cell_type": "code",
   "execution_count": 21,
   "id": "b819d77f-ea11-4530-b559-dff459c092e1",
   "metadata": {},
   "outputs": [
    {
     "name": "stdout",
     "output_type": "stream",
     "text": [
      "[0 1 2 3 4]\n"
     ]
    }
   ],
   "source": [
    "df = df.replace({'sexual_orientation' : {'Heterosexual': 0, 'Gay': 1, 'Bisexual': 2, 'Lesbian': 3, 'Other': 4}})\n",
    "\n",
    "print(df['sexual_orientation'].unique())"
   ]
  },
  {
   "cell_type": "code",
   "execution_count": 22,
   "id": "8059bdd8-1ab9-427a-836c-e61fd0d4b282",
   "metadata": {},
   "outputs": [
    {
     "name": "stdout",
     "output_type": "stream",
     "text": [
      "[0 1 2 3 4 5]\n"
     ]
    }
   ],
   "source": [
    "df = df.replace({'race' : {'Caucasian': 0, 'African American': 1, 'Other': 2, 'Asian': 3, 'Hispanic': 4, 'Native American': 5}})\n",
    "\n",
    "print(df['race'].unique())"
   ]
  },
  {
   "cell_type": "code",
   "execution_count": 23,
   "id": "39c04279-a6cc-4554-95f3-7272e4b949c5",
   "metadata": {},
   "outputs": [
    {
     "name": "stdout",
     "output_type": "stream",
     "text": [
      "[1 2 0 3]\n"
     ]
    }
   ],
   "source": [
    "df = df.replace({'education' : {\"Associate's degree\": 0, \"Bachelor's degree\": 1, \"Master's degree\": 2, \"None\": 3}})\n",
    "\n",
    "print(df['education'].unique())"
   ]
  },
  {
   "cell_type": "code",
   "execution_count": 24,
   "id": "047f6999-6274-4788-98d1-d77ae9cda3bd",
   "metadata": {},
   "outputs": [
    {
     "name": "stdout",
     "output_type": "stream",
     "text": [
      "[0 1]\n"
     ]
    }
   ],
   "source": [
    "df = df.replace({'location' : {'Remote': 0, 'On-site': 1}})\n",
    "\n",
    "print(df['location'].unique())"
   ]
  },
  {
   "cell_type": "code",
   "execution_count": 25,
   "id": "b49eaf9f-bd2a-4c71-ac0a-8ce68aba4172",
   "metadata": {},
   "outputs": [
    {
     "name": "stdout",
     "output_type": "stream",
     "text": [
      "[18  3  0 19 15  9 11 20  7  8 16 17 10 13 14  5  6  4  1  2 12]\n"
     ]
    }
   ],
   "source": [
    "df = df.replace({'location_city' : {'Austin': 0, 'Boston': 1, 'Charlotte': 2, 'Chicago': 3, \n",
    "                                    'Columbus': 4, 'Dallas': 5, 'Denver': 6, 'Fort Worth': 7, 'Houston': 8,\n",
    "                                    'Indianapolis': 9, 'Jacksonville': 10, 'Los Angeles': 11, 'New York': 12,\n",
    "                                    'Philadelphia': 13, 'Phoenix': 14, 'San Antonio': 15, 'San Diego': 16, \n",
    "                                    'San Francisco': 17, 'San Jose': 18, 'Seattle': 19, 'Washington DC': 20}})\n",
    "print(df['location_city'].unique())"
   ]
  },
  {
   "cell_type": "code",
   "execution_count": 26,
   "id": "923003d0-8e43-489e-a123-c12e71af9102",
   "metadata": {},
   "outputs": [
    {
     "name": "stdout",
     "output_type": "stream",
     "text": [
      "[1 0]\n"
     ]
    }
   ],
   "source": [
    "df = df.replace({'marital_status' : {'Married': 1, 'Single': 0}})\n",
    "\n",
    "print(df['marital_status'].unique())"
   ]
  },
  {
   "cell_type": "code",
   "execution_count": 27,
   "id": "322b8cbe-35cf-4360-866c-dd002dc4c24b",
   "metadata": {},
   "outputs": [
    {
     "name": "stdout",
     "output_type": "stream",
     "text": [
      "[0 1]\n"
     ]
    }
   ],
   "source": [
    "df = df.replace({'employment_status' : {'Full Time': 0, 'Contract': 1}})\n",
    "\n",
    "print(df['employment_status'].unique())"
   ]
  },
  {
   "cell_type": "code",
   "execution_count": 33,
   "id": "716a6dbf-87c2-41a0-b7b4-5554d53adfd4",
   "metadata": {},
   "outputs": [
    {
     "name": "stdout",
     "output_type": "stream",
     "text": [
      "[0.  1.4 1.3 1.6 1.1 1.5 1.2]\n"
     ]
    }
   ],
   "source": [
    "df = df.replace({'term_reason' : {'0': 0, 'Better salary': 1.1, 'Career change': 1.2, 'Found a better opportunity': 1.3,\n",
    "                                  'More flexible benefits': 1.4, 'Personal reasons': 1.5, 'Relocation': 1.6}})\n",
    "\n",
    "print(df['term_reason'].unique())"
   ]
  },
  {
   "cell_type": "code",
   "execution_count": 35,
   "id": "75f0710f-efd6-43ca-b6be-f5638bf5b9db",
   "metadata": {},
   "outputs": [
    {
     "name": "stdout",
     "output_type": "stream",
     "text": [
      "['0' 'Voluntary']\n"
     ]
    }
   ],
   "source": [
    "print(df['term_type'].unique())"
   ]
  },
  {
   "cell_type": "code",
   "execution_count": 40,
   "id": "e17ebcb9-40db-47dc-b538-b83807b403f2",
   "metadata": {},
   "outputs": [
    {
     "name": "stdout",
     "output_type": "stream",
     "text": [
      "[0 1]\n"
     ]
    }
   ],
   "source": [
    "df = df.replace({'term_type' : {'0': 0, 'Voluntary': 1}})\n",
    "\n",
    "print(df['term_type'].unique())"
   ]
  },
  {
   "cell_type": "code",
   "execution_count": 41,
   "id": "97696e3c-80b5-47ff-8cb5-aeff3e99c656",
   "metadata": {},
   "outputs": [
    {
     "name": "stdout",
     "output_type": "stream",
     "text": [
      "<class 'pandas.core.frame.DataFrame'>\n",
      "Int64Index: 4008 entries, 0 to 4137\n",
      "Data columns (total 20 columns):\n",
      " #   Column              Non-Null Count  Dtype  \n",
      "---  ------              --------------  -----  \n",
      " 0   employee_id         4008 non-null   int64  \n",
      " 1   department          4008 non-null   int64  \n",
      " 2   sub-department      4008 non-null   float64\n",
      " 3   job_level           4008 non-null   int64  \n",
      " 4   gender              4008 non-null   int64  \n",
      " 5   sexual_orientation  4008 non-null   int64  \n",
      " 6   race                4008 non-null   int64  \n",
      " 7   age                 4008 non-null   int64  \n",
      " 8   education           4008 non-null   int64  \n",
      " 9   location            4008 non-null   int64  \n",
      " 10  location_city       4008 non-null   int64  \n",
      " 11  marital_status      4008 non-null   int64  \n",
      " 12  employment_status   4008 non-null   int64  \n",
      " 13  salary              4008 non-null   int64  \n",
      " 14  hire_date           4008 non-null   object \n",
      " 15  term_date           4008 non-null   object \n",
      " 16  years_of_service    4008 non-null   int64  \n",
      " 17  term_type           4008 non-null   int64  \n",
      " 18  term_reason         4008 non-null   float64\n",
      " 19  Employee Status     4008 non-null   int64  \n",
      "dtypes: float64(2), int64(16), object(2)\n",
      "memory usage: 657.6+ KB\n"
     ]
    }
   ],
   "source": [
    "df.info()"
   ]
  },
  {
   "cell_type": "code",
   "execution_count": 42,
   "id": "8afbfe8f-a470-45f0-80a1-6960ab88f39f",
   "metadata": {},
   "outputs": [
    {
     "data": {
      "text/plain": [
       "['Employee ID',\n",
       " 'Department',\n",
       " 'Department Area',\n",
       " 'Degree of Leadership',\n",
       " 'Gender',\n",
       " 'Sexual Orientation',\n",
       " 'Race',\n",
       " 'Age',\n",
       " 'Education',\n",
       " 'Work Environment',\n",
       " 'City',\n",
       " 'Marital Status',\n",
       " 'Full-Time or Contract',\n",
       " 'Salary',\n",
       " 'Hire Date',\n",
       " 'Termination Date',\n",
       " 'Years of Service',\n",
       " 'Termination Type',\n",
       " 'Termination Reason',\n",
       " 'Employee Status']"
      ]
     },
     "execution_count": 42,
     "metadata": {},
     "output_type": "execute_result"
    }
   ],
   "source": [
    "df.columns = ['Employee ID', 'Department', 'Department Area', 'Degree of Leadership', \n",
    "              'Gender', 'Sexual Orientation', 'Race', 'Age', 'Education', 'Work Environment', 'City', 'Marital Status',\n",
    "              'Full-Time or Contract', 'Salary', 'Hire Date', 'Termination Date', 'Years of Service', 'Termination Type', 'Termination Reason', 'Employee Status']\n",
    "\n",
    "list(df.columns)"
   ]
  },
  {
   "cell_type": "code",
   "execution_count": 43,
   "id": "42fa745c-a5fd-4a51-b89c-6be0c1c99b8b",
   "metadata": {},
   "outputs": [
    {
     "data": {
      "text/html": [
       "<div>\n",
       "<style scoped>\n",
       "    .dataframe tbody tr th:only-of-type {\n",
       "        vertical-align: middle;\n",
       "    }\n",
       "\n",
       "    .dataframe tbody tr th {\n",
       "        vertical-align: top;\n",
       "    }\n",
       "\n",
       "    .dataframe thead th {\n",
       "        text-align: right;\n",
       "    }\n",
       "</style>\n",
       "<table border=\"1\" class=\"dataframe\">\n",
       "  <thead>\n",
       "    <tr style=\"text-align: right;\">\n",
       "      <th></th>\n",
       "      <th>Employee ID</th>\n",
       "      <th>Department</th>\n",
       "      <th>Department Area</th>\n",
       "      <th>Degree of Leadership</th>\n",
       "      <th>Gender</th>\n",
       "      <th>Sexual Orientation</th>\n",
       "      <th>Race</th>\n",
       "      <th>Age</th>\n",
       "      <th>Education</th>\n",
       "      <th>Work Environment</th>\n",
       "      <th>City</th>\n",
       "      <th>Marital Status</th>\n",
       "      <th>Full-Time or Contract</th>\n",
       "      <th>Salary</th>\n",
       "      <th>Hire Date</th>\n",
       "      <th>Termination Date</th>\n",
       "      <th>Years of Service</th>\n",
       "      <th>Termination Type</th>\n",
       "      <th>Termination Reason</th>\n",
       "      <th>Employee Status</th>\n",
       "    </tr>\n",
       "  </thead>\n",
       "  <tbody>\n",
       "    <tr>\n",
       "      <th>0</th>\n",
       "      <td>4566010041</td>\n",
       "      <td>11</td>\n",
       "      <td>11.2</td>\n",
       "      <td>0</td>\n",
       "      <td>0</td>\n",
       "      <td>0</td>\n",
       "      <td>0</td>\n",
       "      <td>32</td>\n",
       "      <td>1</td>\n",
       "      <td>0</td>\n",
       "      <td>18</td>\n",
       "      <td>1</td>\n",
       "      <td>0</td>\n",
       "      <td>101989</td>\n",
       "      <td>6/28/17</td>\n",
       "      <td>0</td>\n",
       "      <td>5</td>\n",
       "      <td>0</td>\n",
       "      <td>0.0</td>\n",
       "      <td>0</td>\n",
       "    </tr>\n",
       "    <tr>\n",
       "      <th>1</th>\n",
       "      <td>7563277100</td>\n",
       "      <td>12</td>\n",
       "      <td>12.3</td>\n",
       "      <td>1</td>\n",
       "      <td>0</td>\n",
       "      <td>0</td>\n",
       "      <td>0</td>\n",
       "      <td>26</td>\n",
       "      <td>1</td>\n",
       "      <td>0</td>\n",
       "      <td>3</td>\n",
       "      <td>0</td>\n",
       "      <td>0</td>\n",
       "      <td>98059</td>\n",
       "      <td>5/27/12</td>\n",
       "      <td>0</td>\n",
       "      <td>10</td>\n",
       "      <td>0</td>\n",
       "      <td>0.0</td>\n",
       "      <td>0</td>\n",
       "    </tr>\n",
       "    <tr>\n",
       "      <th>2</th>\n",
       "      <td>901750037</td>\n",
       "      <td>3</td>\n",
       "      <td>3.1</td>\n",
       "      <td>1</td>\n",
       "      <td>0</td>\n",
       "      <td>0</td>\n",
       "      <td>0</td>\n",
       "      <td>26</td>\n",
       "      <td>1</td>\n",
       "      <td>0</td>\n",
       "      <td>0</td>\n",
       "      <td>1</td>\n",
       "      <td>0</td>\n",
       "      <td>65444</td>\n",
       "      <td>2/12/17</td>\n",
       "      <td>0</td>\n",
       "      <td>5</td>\n",
       "      <td>0</td>\n",
       "      <td>0.0</td>\n",
       "      <td>0</td>\n",
       "    </tr>\n",
       "    <tr>\n",
       "      <th>3</th>\n",
       "      <td>5969184373</td>\n",
       "      <td>6</td>\n",
       "      <td>6.3</td>\n",
       "      <td>1</td>\n",
       "      <td>1</td>\n",
       "      <td>0</td>\n",
       "      <td>0</td>\n",
       "      <td>40</td>\n",
       "      <td>1</td>\n",
       "      <td>0</td>\n",
       "      <td>19</td>\n",
       "      <td>0</td>\n",
       "      <td>0</td>\n",
       "      <td>90060</td>\n",
       "      <td>6/27/20</td>\n",
       "      <td>0</td>\n",
       "      <td>2</td>\n",
       "      <td>0</td>\n",
       "      <td>0.0</td>\n",
       "      <td>0</td>\n",
       "    </tr>\n",
       "    <tr>\n",
       "      <th>4</th>\n",
       "      <td>3294917953</td>\n",
       "      <td>12</td>\n",
       "      <td>12.1</td>\n",
       "      <td>1</td>\n",
       "      <td>1</td>\n",
       "      <td>0</td>\n",
       "      <td>1</td>\n",
       "      <td>41</td>\n",
       "      <td>1</td>\n",
       "      <td>0</td>\n",
       "      <td>15</td>\n",
       "      <td>0</td>\n",
       "      <td>0</td>\n",
       "      <td>56973</td>\n",
       "      <td>9/8/14</td>\n",
       "      <td>0</td>\n",
       "      <td>8</td>\n",
       "      <td>0</td>\n",
       "      <td>0.0</td>\n",
       "      <td>0</td>\n",
       "    </tr>\n",
       "    <tr>\n",
       "      <th>5</th>\n",
       "      <td>9733816619</td>\n",
       "      <td>3</td>\n",
       "      <td>3.3</td>\n",
       "      <td>1</td>\n",
       "      <td>1</td>\n",
       "      <td>0</td>\n",
       "      <td>2</td>\n",
       "      <td>41</td>\n",
       "      <td>2</td>\n",
       "      <td>0</td>\n",
       "      <td>9</td>\n",
       "      <td>0</td>\n",
       "      <td>0</td>\n",
       "      <td>59564</td>\n",
       "      <td>3/31/14</td>\n",
       "      <td>0</td>\n",
       "      <td>8</td>\n",
       "      <td>0</td>\n",
       "      <td>0.0</td>\n",
       "      <td>0</td>\n",
       "    </tr>\n",
       "    <tr>\n",
       "      <th>6</th>\n",
       "      <td>1363350907</td>\n",
       "      <td>12</td>\n",
       "      <td>12.3</td>\n",
       "      <td>1</td>\n",
       "      <td>0</td>\n",
       "      <td>0</td>\n",
       "      <td>1</td>\n",
       "      <td>38</td>\n",
       "      <td>1</td>\n",
       "      <td>1</td>\n",
       "      <td>11</td>\n",
       "      <td>0</td>\n",
       "      <td>0</td>\n",
       "      <td>72231</td>\n",
       "      <td>8/4/19</td>\n",
       "      <td>0</td>\n",
       "      <td>3</td>\n",
       "      <td>0</td>\n",
       "      <td>0.0</td>\n",
       "      <td>0</td>\n",
       "    </tr>\n",
       "    <tr>\n",
       "      <th>7</th>\n",
       "      <td>8079838913</td>\n",
       "      <td>4</td>\n",
       "      <td>4.3</td>\n",
       "      <td>1</td>\n",
       "      <td>1</td>\n",
       "      <td>0</td>\n",
       "      <td>0</td>\n",
       "      <td>38</td>\n",
       "      <td>1</td>\n",
       "      <td>0</td>\n",
       "      <td>20</td>\n",
       "      <td>0</td>\n",
       "      <td>0</td>\n",
       "      <td>54679</td>\n",
       "      <td>3/21/18</td>\n",
       "      <td>0</td>\n",
       "      <td>4</td>\n",
       "      <td>0</td>\n",
       "      <td>0.0</td>\n",
       "      <td>0</td>\n",
       "    </tr>\n",
       "    <tr>\n",
       "      <th>8</th>\n",
       "      <td>8456966186</td>\n",
       "      <td>0</td>\n",
       "      <td>0.1</td>\n",
       "      <td>1</td>\n",
       "      <td>1</td>\n",
       "      <td>0</td>\n",
       "      <td>0</td>\n",
       "      <td>24</td>\n",
       "      <td>1</td>\n",
       "      <td>0</td>\n",
       "      <td>20</td>\n",
       "      <td>0</td>\n",
       "      <td>0</td>\n",
       "      <td>56138</td>\n",
       "      <td>7/17/17</td>\n",
       "      <td>6/20/19</td>\n",
       "      <td>1</td>\n",
       "      <td>1</td>\n",
       "      <td>1.4</td>\n",
       "      <td>1</td>\n",
       "    </tr>\n",
       "    <tr>\n",
       "      <th>9</th>\n",
       "      <td>2266152100</td>\n",
       "      <td>8</td>\n",
       "      <td>8.3</td>\n",
       "      <td>1</td>\n",
       "      <td>1</td>\n",
       "      <td>0</td>\n",
       "      <td>0</td>\n",
       "      <td>40</td>\n",
       "      <td>1</td>\n",
       "      <td>0</td>\n",
       "      <td>7</td>\n",
       "      <td>0</td>\n",
       "      <td>0</td>\n",
       "      <td>64551</td>\n",
       "      <td>4/14/15</td>\n",
       "      <td>0</td>\n",
       "      <td>7</td>\n",
       "      <td>0</td>\n",
       "      <td>0.0</td>\n",
       "      <td>0</td>\n",
       "    </tr>\n",
       "  </tbody>\n",
       "</table>\n",
       "</div>"
      ],
      "text/plain": [
       "   Employee ID  Department  Department Area  Degree of Leadership  Gender  \\\n",
       "0   4566010041          11             11.2                     0       0   \n",
       "1   7563277100          12             12.3                     1       0   \n",
       "2    901750037           3              3.1                     1       0   \n",
       "3   5969184373           6              6.3                     1       1   \n",
       "4   3294917953          12             12.1                     1       1   \n",
       "5   9733816619           3              3.3                     1       1   \n",
       "6   1363350907          12             12.3                     1       0   \n",
       "7   8079838913           4              4.3                     1       1   \n",
       "8   8456966186           0              0.1                     1       1   \n",
       "9   2266152100           8              8.3                     1       1   \n",
       "\n",
       "   Sexual Orientation  Race  Age  Education  Work Environment  City  \\\n",
       "0                   0     0   32          1                 0    18   \n",
       "1                   0     0   26          1                 0     3   \n",
       "2                   0     0   26          1                 0     0   \n",
       "3                   0     0   40          1                 0    19   \n",
       "4                   0     1   41          1                 0    15   \n",
       "5                   0     2   41          2                 0     9   \n",
       "6                   0     1   38          1                 1    11   \n",
       "7                   0     0   38          1                 0    20   \n",
       "8                   0     0   24          1                 0    20   \n",
       "9                   0     0   40          1                 0     7   \n",
       "\n",
       "   Marital Status  Full-Time or Contract  Salary Hire Date Termination Date  \\\n",
       "0               1                      0  101989   6/28/17                0   \n",
       "1               0                      0   98059   5/27/12                0   \n",
       "2               1                      0   65444   2/12/17                0   \n",
       "3               0                      0   90060   6/27/20                0   \n",
       "4               0                      0   56973    9/8/14                0   \n",
       "5               0                      0   59564   3/31/14                0   \n",
       "6               0                      0   72231    8/4/19                0   \n",
       "7               0                      0   54679   3/21/18                0   \n",
       "8               0                      0   56138   7/17/17          6/20/19   \n",
       "9               0                      0   64551   4/14/15                0   \n",
       "\n",
       "   Years of Service  Termination Type  Termination Reason  Employee Status  \n",
       "0                 5                 0                 0.0                0  \n",
       "1                10                 0                 0.0                0  \n",
       "2                 5                 0                 0.0                0  \n",
       "3                 2                 0                 0.0                0  \n",
       "4                 8                 0                 0.0                0  \n",
       "5                 8                 0                 0.0                0  \n",
       "6                 3                 0                 0.0                0  \n",
       "7                 4                 0                 0.0                0  \n",
       "8                 1                 1                 1.4                1  \n",
       "9                 7                 0                 0.0                0  "
      ]
     },
     "execution_count": 43,
     "metadata": {},
     "output_type": "execute_result"
    }
   ],
   "source": [
    "df.head(10)"
   ]
  },
  {
   "cell_type": "code",
   "execution_count": 44,
   "id": "fd8d64ee-28e5-4d64-b8e9-3e78134730d2",
   "metadata": {},
   "outputs": [],
   "source": [
    "df.to_csv('people_data_clean.csv', index=False)"
   ]
  },
  {
   "cell_type": "code",
   "execution_count": null,
   "id": "5b5355e4-babf-4ce4-85ef-c02eb74a0697",
   "metadata": {},
   "outputs": [],
   "source": []
  }
 ],
 "metadata": {
  "kernelspec": {
   "display_name": "Python 3 (ipykernel)",
   "language": "python",
   "name": "python3"
  },
  "language_info": {
   "codemirror_mode": {
    "name": "ipython",
    "version": 3
   },
   "file_extension": ".py",
   "mimetype": "text/x-python",
   "name": "python",
   "nbconvert_exporter": "python",
   "pygments_lexer": "ipython3",
   "version": "3.10.8"
  }
 },
 "nbformat": 4,
 "nbformat_minor": 5
}
