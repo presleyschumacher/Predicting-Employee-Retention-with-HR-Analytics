{
 "cells": [
  {
   "cell_type": "code",
   "execution_count": 1,
   "id": "e846a7ca-037c-4096-bddd-ca874af4e241",
   "metadata": {},
   "outputs": [],
   "source": [
    "# import libraries\n",
    "import pandas as pd\n",
    "import numpy as np\n",
    "import matplotlib.pyplot as plt\n",
    "import seaborn as sns\n",
    "\n",
    "# import dataframe\n",
    "df = pd.read_csv(\"people_data_clean.csv\")"
   ]
  },
  {
   "cell_type": "code",
   "execution_count": 2,
   "id": "3a4f03d9-7e7d-4acf-bd96-c8c6fee45f9d",
   "metadata": {},
   "outputs": [
    {
     "name": "stdout",
     "output_type": "stream",
     "text": [
      "<class 'pandas.core.frame.DataFrame'>\n",
      "RangeIndex: 4008 entries, 0 to 4007\n",
      "Data columns (total 24 columns):\n",
      " #   Column                   Non-Null Count  Dtype  \n",
      "---  ------                   --------------  -----  \n",
      " 0   Employee ID              4008 non-null   int64  \n",
      " 1   Department               4008 non-null   int64  \n",
      " 2   Department Area          4008 non-null   float64\n",
      " 3   Degree of Leadership     4008 non-null   int64  \n",
      " 4   Gender                   4008 non-null   int64  \n",
      " 5   Sexual Orientation       4008 non-null   int64  \n",
      " 6   Race                     4008 non-null   int64  \n",
      " 7   Age                      4008 non-null   int64  \n",
      " 8   Education                4008 non-null   int64  \n",
      " 9   Work Environment         4008 non-null   int64  \n",
      " 10  City                     4008 non-null   int64  \n",
      " 11  Marital Status           4008 non-null   int64  \n",
      " 12  Full-Time or Contract    4008 non-null   int64  \n",
      " 13  Salary                   4008 non-null   int64  \n",
      " 14  Hire Date                4008 non-null   object \n",
      " 15  Termination Date         4008 non-null   object \n",
      " 16  Years of Service         4008 non-null   int64  \n",
      " 17  Termination Type         4008 non-null   int64  \n",
      " 18  Termination Reason       4008 non-null   float64\n",
      " 19  Employee Status          4008 non-null   int64  \n",
      " 20  JobSatisfaction          1470 non-null   float64\n",
      " 21  WorkLifeBalance          1705 non-null   float64\n",
      " 22  YearsSinceLastPromotion  4008 non-null   int64  \n",
      " 23  PerformanceRating        1470 non-null   float64\n",
      "dtypes: float64(5), int64(17), object(2)\n",
      "memory usage: 751.6+ KB\n"
     ]
    }
   ],
   "source": [
    "df.info()"
   ]
  },
  {
   "cell_type": "code",
   "execution_count": 3,
   "id": "4fb4986f-dbe2-43fa-912d-d93768ae5df0",
   "metadata": {},
   "outputs": [],
   "source": [
    "# Replace blank cells with NaN values\n",
    "df.replace('', np.nan, inplace=True)"
   ]
  },
  {
   "cell_type": "code",
   "execution_count": 4,
   "id": "e69aefdf-0e97-46fa-8554-849f96dfdccc",
   "metadata": {},
   "outputs": [
    {
     "name": "stdout",
     "output_type": "stream",
     "text": [
      "[ 4.  2.  3.  1. nan]\n"
     ]
    }
   ],
   "source": [
    "print(df['JobSatisfaction'].unique())"
   ]
  },
  {
   "cell_type": "code",
   "execution_count": 5,
   "id": "b21bb35e-d20f-4569-86a0-22ee9393d11d",
   "metadata": {},
   "outputs": [],
   "source": [
    "# Generate random integers between 1 and 4 for blank cells\n",
    "random_numbers = np.random.randint(1, 4, size=df['JobSatisfaction'].isnull().sum())\n",
    "\n",
    "# Fill blank cells with random numbers\n",
    "df.loc[df['JobSatisfaction'].isnull(), 'JobSatisfaction'] = random_numbers"
   ]
  },
  {
   "cell_type": "code",
   "execution_count": 6,
   "id": "afc38f1a-5a7c-467f-9714-bcfee5edd3bb",
   "metadata": {},
   "outputs": [
    {
     "name": "stdout",
     "output_type": "stream",
     "text": [
      "[4. 2. 3. 1.]\n"
     ]
    }
   ],
   "source": [
    "print(df['JobSatisfaction'].unique())"
   ]
  },
  {
   "cell_type": "code",
   "execution_count": 7,
   "id": "1b5e9453-56b0-4d53-8c53-cce96d142366",
   "metadata": {},
   "outputs": [
    {
     "name": "stdout",
     "output_type": "stream",
     "text": [
      "[ 1.  3.  2.  4. nan  0.]\n"
     ]
    }
   ],
   "source": [
    "print(df['WorkLifeBalance'].unique())"
   ]
  },
  {
   "cell_type": "code",
   "execution_count": 8,
   "id": "84362193-6ab6-461c-841d-196902c935bf",
   "metadata": {},
   "outputs": [
    {
     "name": "stdout",
     "output_type": "stream",
     "text": [
      "[1. 3. 2. 4. 0.]\n"
     ]
    }
   ],
   "source": [
    "# Generate random integers between 1 and 4 for blank cells\n",
    "random_numbers = np.random.randint(0, 4, size=df['WorkLifeBalance'].isnull().sum())\n",
    "\n",
    "# Fill blank cells with random numbers\n",
    "df.loc[df['WorkLifeBalance'].isnull(), 'WorkLifeBalance'] = random_numbers\n",
    "\n",
    "print(df['WorkLifeBalance'].unique())"
   ]
  },
  {
   "cell_type": "code",
   "execution_count": 9,
   "id": "b9dbd388-f7e0-4762-9ac8-7aa5cbe1bb55",
   "metadata": {},
   "outputs": [
    {
     "name": "stdout",
     "output_type": "stream",
     "text": [
      "[ 3.  4. nan]\n"
     ]
    }
   ],
   "source": [
    "print(df['PerformanceRating'].unique())"
   ]
  },
  {
   "cell_type": "code",
   "execution_count": 10,
   "id": "67457038-b8c5-42cd-a30f-afda2d56345e",
   "metadata": {},
   "outputs": [
    {
     "name": "stdout",
     "output_type": "stream",
     "text": [
      "[3. 4. 2.]\n"
     ]
    }
   ],
   "source": [
    "# Generate random integers between 1 and 4 for blank cells\n",
    "random_numbers = np.random.randint(2, 4, size=df['PerformanceRating'].isnull().sum())\n",
    "\n",
    "# Fill blank cells with random numbers\n",
    "df.loc[df['PerformanceRating'].isnull(), 'PerformanceRating'] = random_numbers\n",
    "\n",
    "print(df['PerformanceRating'].unique())"
   ]
  },
  {
   "cell_type": "code",
   "execution_count": 13,
   "id": "6ad7c1b9-2271-4412-a6cf-f7893ed1d313",
   "metadata": {},
   "outputs": [
    {
     "name": "stdout",
     "output_type": "stream",
     "text": [
      "<class 'pandas.core.frame.DataFrame'>\n",
      "RangeIndex: 4008 entries, 0 to 4007\n",
      "Data columns (total 24 columns):\n",
      " #   Column                   Non-Null Count  Dtype  \n",
      "---  ------                   --------------  -----  \n",
      " 0   Employee ID              4008 non-null   int64  \n",
      " 1   Department               4008 non-null   int64  \n",
      " 2   Department Area          4008 non-null   float64\n",
      " 3   Degree of Leadership     4008 non-null   int64  \n",
      " 4   Gender                   4008 non-null   int64  \n",
      " 5   Sexual Orientation       4008 non-null   int64  \n",
      " 6   Race                     4008 non-null   int64  \n",
      " 7   Age                      4008 non-null   int64  \n",
      " 8   Education                4008 non-null   int64  \n",
      " 9   Work Environment         4008 non-null   int64  \n",
      " 10  City                     4008 non-null   int64  \n",
      " 11  Marital Status           4008 non-null   int64  \n",
      " 12  Full-Time or Contract    4008 non-null   int64  \n",
      " 13  Salary                   4008 non-null   int64  \n",
      " 14  Hire Date                4008 non-null   object \n",
      " 15  Termination Date         4008 non-null   object \n",
      " 16  Years of Service         4008 non-null   int64  \n",
      " 17  Termination Type         4008 non-null   int64  \n",
      " 18  Termination Reason       4008 non-null   float64\n",
      " 19  Employee Status          4008 non-null   int64  \n",
      " 20  JobSatisfaction          4008 non-null   int64  \n",
      " 21  WorkLifeBalance          4008 non-null   int64  \n",
      " 22  YearsSinceLastPromotion  4008 non-null   int64  \n",
      " 23  PerformanceRating        4008 non-null   int64  \n",
      "dtypes: float64(2), int64(20), object(2)\n",
      "memory usage: 751.6+ KB\n"
     ]
    }
   ],
   "source": [
    "df['JobSatisfaction'] = df['JobSatisfaction'].astype(int)\n",
    "\n",
    "df['WorkLifeBalance'] = df['WorkLifeBalance'].astype(int)\n",
    "\n",
    "df['PerformanceRating'] = df['PerformanceRating'].astype(int)\n",
    "\n",
    "df.info()"
   ]
  },
  {
   "cell_type": "code",
   "execution_count": 20,
   "id": "adec9141-0201-49d2-b2dc-e72434977d86",
   "metadata": {},
   "outputs": [],
   "source": [
    "df.to_csv('people_data_final.csv', index=False)"
   ]
  },
  {
   "cell_type": "code",
   "execution_count": null,
   "id": "d2f1abb8-4ed9-4063-82cb-90e88651e466",
   "metadata": {},
   "outputs": [],
   "source": []
  }
 ],
 "metadata": {
  "kernelspec": {
   "display_name": "Python 3 (ipykernel)",
   "language": "python",
   "name": "python3"
  },
  "language_info": {
   "codemirror_mode": {
    "name": "ipython",
    "version": 3
   },
   "file_extension": ".py",
   "mimetype": "text/x-python",
   "name": "python",
   "nbconvert_exporter": "python",
   "pygments_lexer": "ipython3",
   "version": "3.10.8"
  }
 },
 "nbformat": 4,
 "nbformat_minor": 5
}
