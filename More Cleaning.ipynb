{
 "cells": [
  {
   "cell_type": "code",
   "execution_count": 1,
   "id": "466b8bfc-5336-4f66-ad81-41c068d5d50d",
   "metadata": {},
   "outputs": [],
   "source": [
    "# import libraries\n",
    "import pandas as pd\n",
    "import numpy as np\n",
    "import matplotlib.pyplot as plt\n",
    "import seaborn as sns\n",
    "\n",
    "# import dataframe\n",
    "df = pd.read_csv(\"people_data_cleaning#2.csv\")"
   ]
  },
  {
   "cell_type": "code",
   "execution_count": 2,
   "id": "89cdbc18-8a2b-4a5e-83a3-907532261959",
   "metadata": {},
   "outputs": [
    {
     "name": "stdout",
     "output_type": "stream",
     "text": [
      "<class 'pandas.core.frame.DataFrame'>\n",
      "RangeIndex: 4008 entries, 0 to 4007\n",
      "Data columns (total 24 columns):\n",
      " #   Column                      Non-Null Count  Dtype  \n",
      "---  ------                      --------------  -----  \n",
      " 0   Employee ID                 4008 non-null   int64  \n",
      " 1   Department                  4008 non-null   int64  \n",
      " 2   Department Area             4008 non-null   float64\n",
      " 3   Degree of Leadership        4008 non-null   int64  \n",
      " 4   Gender                      4008 non-null   int64  \n",
      " 5   Sexual Orientation          4008 non-null   int64  \n",
      " 6   Race                        4008 non-null   int64  \n",
      " 7   Age                         4008 non-null   int64  \n",
      " 8   Education                   4008 non-null   int64  \n",
      " 9   Work Environment            4008 non-null   int64  \n",
      " 10  City                        4008 non-null   int64  \n",
      " 11  Marital Status              4008 non-null   int64  \n",
      " 12  Full-Time or Contract       4008 non-null   int64  \n",
      " 13  Salary                      4008 non-null   int64  \n",
      " 14  Hire Date                   4008 non-null   object \n",
      " 15  Termination Date            4008 non-null   object \n",
      " 16  Years of Service            4008 non-null   int64  \n",
      " 17  Termination Type            4008 non-null   int64  \n",
      " 18  Termination Reason          4008 non-null   float64\n",
      " 19  Employee Status             4008 non-null   int64  \n",
      " 20  Job Satisfaction            4008 non-null   int64  \n",
      " 21  Work Life Balance           4008 non-null   int64  \n",
      " 22  Years Since Last Promotion  4008 non-null   int64  \n",
      " 23  Performance Rating          4008 non-null   int64  \n",
      "dtypes: float64(2), int64(20), object(2)\n",
      "memory usage: 751.6+ KB\n"
     ]
    }
   ],
   "source": [
    "df.info()"
   ]
  },
  {
   "cell_type": "code",
   "execution_count": 8,
   "id": "7cf337e3-cbb8-42e6-99ab-bc600a6be1f4",
   "metadata": {},
   "outputs": [
    {
     "name": "stdout",
     "output_type": "stream",
     "text": [
      "['6/28/17' '5/27/12' '2/12/17' ... '6/18/16' '12/24/18' '4/3/20']\n"
     ]
    }
   ],
   "source": [
    "print(df['Hire Date'].unique())"
   ]
  },
  {
   "cell_type": "code",
   "execution_count": 10,
   "id": "77b97ba6-0957-4eef-acd3-6092c01172ed",
   "metadata": {},
   "outputs": [],
   "source": [
    "def extract_year(date_str):\n",
    "    year_str = date_str[-2:]  # Extract the last 2 characters of the string, which represent the year in YY format\n",
    "    year_int = int(year_str)  # Convert the year string to an integer\n",
    "    if year_int < 50:\n",
    "        year_int += 2000  # Assume that years from 00-49 correspond to 2000-2049\n",
    "    else:\n",
    "        year_int += 1900  # Assume that years from 50-99 correspond to 1950-1999\n",
    "    return str(year_int)  # Convert the year integer back to a string and return it"
   ]
  },
  {
   "cell_type": "code",
   "execution_count": 11,
   "id": "1caddfce-ca90-4017-bc4f-f01f77e457d9",
   "metadata": {},
   "outputs": [],
   "source": [
    "# Define the updated extract_year function\n",
    "def extract_year(date_str):\n",
    "    year_str = date_str[-2:]  # Extract the last 2 characters of the string, which represent the year in YY format\n",
    "    year_int = int(year_str)  # Convert the year string to an integer\n",
    "    if year_int < 50:\n",
    "        year_int += 2000  # Assume that years from 00-49 correspond to 2000-2049\n",
    "    else:\n",
    "        year_int += 1900  # Assume that years from 50-99 correspond to 1950-1999\n",
    "    return str(year_int)  # Convert the year integer back to a string and return it\n",
    "\n",
    "# Apply the function to the \"Hire Date\" column and store the result in a new column\n",
    "df['Hire Year'] = df['Hire Date'].apply(extract_year)\n"
   ]
  },
  {
   "cell_type": "code",
   "execution_count": 13,
   "id": "baf31330-9b13-4104-8e11-cbb7338bc162",
   "metadata": {},
   "outputs": [
    {
     "name": "stdout",
     "output_type": "stream",
     "text": [
      "['2017' '2012' '2020' '2014' '2019' '2018' '2015' '2016' '2021' '2013']\n"
     ]
    }
   ],
   "source": [
    "print(df['Hire Year'].unique())"
   ]
  },
  {
   "cell_type": "code",
   "execution_count": 14,
   "id": "4a052a65-5f78-4e38-834c-f0bec97e3897",
   "metadata": {},
   "outputs": [],
   "source": [
    "df = df.drop('Hire Date', axis=1)"
   ]
  },
  {
   "cell_type": "code",
   "execution_count": 15,
   "id": "a09d3961-8761-4063-a0bd-7b2ce4a68b03",
   "metadata": {},
   "outputs": [],
   "source": [
    "# Define the updated extract_year function\n",
    "def extract_year(date_str):\n",
    "    if date_str == \"0\":  # Check if the date is \"0\"\n",
    "        return \"0000\"  # Replace \"0\" with \"0000\"\n",
    "    else:\n",
    "        year_str = date_str[-2:]  # Extract the last 2 characters of the string, which represent the year in YY format\n",
    "        year_int = int(year_str)  # Convert the year string to an integer\n",
    "        if year_int < 50:\n",
    "            year_int += 2000  # Assume that years from 00-49 correspond to 2000-2049\n",
    "        else:\n",
    "            year_int += 1900  # Assume that years from 50-99 correspond to 1950-1999\n",
    "        return str(year_int)  # Convert the year integer back to a string and return it\n",
    "\n",
    "# Apply the function to the \"Termination Date\" column and store the result in a new column\n",
    "df['Termination Year'] = df['Termination Date'].apply(extract_year)"
   ]
  },
  {
   "cell_type": "code",
   "execution_count": 16,
   "id": "9b53cf8c-54a7-4772-b616-6d2fefee75c5",
   "metadata": {},
   "outputs": [
    {
     "name": "stdout",
     "output_type": "stream",
     "text": [
      "['0000' '2019' '2014' '2015' '2018' '2020' '2013' '2016' '2021' '2017'\n",
      " '2012' '2022']\n"
     ]
    }
   ],
   "source": [
    "print(df['Termination Year'].unique())"
   ]
  },
  {
   "cell_type": "code",
   "execution_count": 18,
   "id": "9a757292-bbfb-4b87-9306-7b66286ef469",
   "metadata": {},
   "outputs": [
    {
     "name": "stdout",
     "output_type": "stream",
     "text": [
      "0000    3409\n",
      "2021     145\n",
      "2020      72\n",
      "2018      62\n",
      "2015      59\n",
      "2019      58\n",
      "2017      58\n",
      "2016      56\n",
      "2014      48\n",
      "2013      28\n",
      "2012       8\n",
      "2022       5\n",
      "Name: Termination Year, dtype: int64\n"
     ]
    }
   ],
   "source": [
    "count = df['Termination Year'].value_counts()\n",
    "\n",
    "print(count)"
   ]
  },
  {
   "cell_type": "code",
   "execution_count": 19,
   "id": "697480b7-b5a2-4335-85e9-7667a556abcc",
   "metadata": {},
   "outputs": [
    {
     "name": "stdout",
     "output_type": "stream",
     "text": [
      "<class 'pandas.core.frame.DataFrame'>\n",
      "RangeIndex: 4008 entries, 0 to 4007\n",
      "Data columns (total 25 columns):\n",
      " #   Column                      Non-Null Count  Dtype  \n",
      "---  ------                      --------------  -----  \n",
      " 0   Employee ID                 4008 non-null   int64  \n",
      " 1   Department                  4008 non-null   int64  \n",
      " 2   Department Area             4008 non-null   float64\n",
      " 3   Degree of Leadership        4008 non-null   int64  \n",
      " 4   Gender                      4008 non-null   int64  \n",
      " 5   Sexual Orientation          4008 non-null   int64  \n",
      " 6   Race                        4008 non-null   int64  \n",
      " 7   Age                         4008 non-null   int64  \n",
      " 8   Education                   4008 non-null   int64  \n",
      " 9   Work Environment            4008 non-null   int64  \n",
      " 10  City                        4008 non-null   int64  \n",
      " 11  Marital Status              4008 non-null   int64  \n",
      " 12  Full-Time or Contract       4008 non-null   int64  \n",
      " 13  Salary                      4008 non-null   int64  \n",
      " 14  Termination Date            4008 non-null   object \n",
      " 15  Years of Service            4008 non-null   int64  \n",
      " 16  Termination Type            4008 non-null   int64  \n",
      " 17  Termination Reason          4008 non-null   float64\n",
      " 18  Employee Status             4008 non-null   int64  \n",
      " 19  Job Satisfaction            4008 non-null   int64  \n",
      " 20  Work Life Balance           4008 non-null   int64  \n",
      " 21  Years Since Last Promotion  4008 non-null   int64  \n",
      " 22  Performance Rating          4008 non-null   int64  \n",
      " 23  Hire Year                   4008 non-null   object \n",
      " 24  Termination Year            4008 non-null   object \n",
      "dtypes: float64(2), int64(20), object(3)\n",
      "memory usage: 782.9+ KB\n"
     ]
    }
   ],
   "source": [
    "df.info()"
   ]
  },
  {
   "cell_type": "code",
   "execution_count": null,
   "id": "0898771a-496e-4eda-8ee1-1e1bc9bd21ac",
   "metadata": {},
   "outputs": [],
   "source": [
    "df = df.drop('Termination Date', axis=1)\n",
    "df = df.drop('Department Area', axis=1)"
   ]
  },
  {
   "cell_type": "code",
   "execution_count": 24,
   "id": "96f20a54-1fe4-45bb-aaac-20205714ee16",
   "metadata": {},
   "outputs": [],
   "source": [
    "df = df.drop('Termination Type', axis=1)\n",
    "df = df.drop('Termination Reason', axis=1)"
   ]
  },
  {
   "cell_type": "code",
   "execution_count": 25,
   "id": "92c7a281-0ad4-4223-a894-53cda4b822c8",
   "metadata": {},
   "outputs": [
    {
     "name": "stdout",
     "output_type": "stream",
     "text": [
      "<class 'pandas.core.frame.DataFrame'>\n",
      "RangeIndex: 4008 entries, 0 to 4007\n",
      "Data columns (total 21 columns):\n",
      " #   Column                      Non-Null Count  Dtype \n",
      "---  ------                      --------------  ----- \n",
      " 0   Employee ID                 4008 non-null   int64 \n",
      " 1   Department                  4008 non-null   int64 \n",
      " 2   Degree of Leadership        4008 non-null   int64 \n",
      " 3   Gender                      4008 non-null   int64 \n",
      " 4   Sexual Orientation          4008 non-null   int64 \n",
      " 5   Race                        4008 non-null   int64 \n",
      " 6   Age                         4008 non-null   int64 \n",
      " 7   Education                   4008 non-null   int64 \n",
      " 8   Work Environment            4008 non-null   int64 \n",
      " 9   City                        4008 non-null   int64 \n",
      " 10  Marital Status              4008 non-null   int64 \n",
      " 11  Full-Time or Contract       4008 non-null   int64 \n",
      " 12  Salary                      4008 non-null   int64 \n",
      " 13  Years of Service            4008 non-null   int64 \n",
      " 14  Employee Status             4008 non-null   int64 \n",
      " 15  Job Satisfaction            4008 non-null   int64 \n",
      " 16  Work Life Balance           4008 non-null   int64 \n",
      " 17  Years Since Last Promotion  4008 non-null   int64 \n",
      " 18  Performance Rating          4008 non-null   int64 \n",
      " 19  Hire Year                   4008 non-null   object\n",
      " 20  Termination Year            4008 non-null   object\n",
      "dtypes: int64(19), object(2)\n",
      "memory usage: 657.7+ KB\n"
     ]
    }
   ],
   "source": [
    "df.info()"
   ]
  },
  {
   "cell_type": "code",
   "execution_count": 26,
   "id": "94169c16-b402-49c3-8926-ecbcc2d685d6",
   "metadata": {},
   "outputs": [
    {
     "name": "stdout",
     "output_type": "stream",
     "text": [
      "         Emp. ID  Department  Position  Gender  Sexual Orientation  Race  Age  \\\n",
      "0     4566010041          11         0       0                   0     0   32   \n",
      "1     7563277100          12         1       0                   0     0   26   \n",
      "2      901750037           3         1       0                   0     0   26   \n",
      "3     5969184373           6         1       1                   0     0   40   \n",
      "4     3294917953          12         1       1                   0     1   41   \n",
      "...          ...         ...       ...     ...                 ...   ...  ...   \n",
      "4003  7063732531          11         1       0                   0     4   28   \n",
      "4004  3791440830           7         1       0                   0     0   27   \n",
      "4005  9839227290          12         0       1                   0     0   25   \n",
      "4006  4362113509           5         2       1                   0     4   41   \n",
      "4007           1           2         4       1                   0     0   32   \n",
      "\n",
      "      Education  Working Location  City  ...  Emp. Type  Salary  \\\n",
      "0             1                 0    18  ...          0       2   \n",
      "1             1                 0     3  ...          0       2   \n",
      "2             1                 0     0  ...          0       0   \n",
      "3             1                 0    19  ...          0       2   \n",
      "4             1                 0    15  ...          0       0   \n",
      "...         ...               ...   ...  ...        ...     ...   \n",
      "4003          1                 0     8  ...          0       0   \n",
      "4004          1                 1    11  ...          0       0   \n",
      "4005          2                 0    20  ...          0       2   \n",
      "4006          2                 1    17  ...          0       1   \n",
      "4007          2                 1    11  ...          0       2   \n",
      "\n",
      "      Years of Service  Active_Inactive  Job Satisfaction  Work Life Balance  \\\n",
      "0                    5                0                 4                  1   \n",
      "1                   10                0                 2                  3   \n",
      "2                    5                0                 3                  3   \n",
      "3                    2                0                 3                  3   \n",
      "4                    8                0                 2                  3   \n",
      "...                ...              ...               ...                ...   \n",
      "4003                 0                1                 2                  3   \n",
      "4004                 4                0                 3                  0   \n",
      "4005                 2                0                 2                  2   \n",
      "4006                 3                0                 3                  1   \n",
      "4007                 5                0                 1                  2   \n",
      "\n",
      "      Years Since Last Promotion  Performance Rating  Hire Year Term Year  \n",
      "0                              0                   3       2017      0000  \n",
      "1                              1                   4       2012      0000  \n",
      "2                              0                   3       2017      0000  \n",
      "3                              0                   3       2020      0000  \n",
      "4                              2                   3       2014      0000  \n",
      "...                          ...                 ...        ...       ...  \n",
      "4003                           0                   2       2016      2017  \n",
      "4004                           1                   3       2018      0000  \n",
      "4005                           2                   3       2020      0000  \n",
      "4006                           3                   3       2019      0000  \n",
      "4007                           3                   2       2017      0000  \n",
      "\n",
      "[4008 rows x 21 columns]\n"
     ]
    }
   ],
   "source": [
    "# Rename specific columns\n",
    "df = df.rename(columns={'Degree of Leadership': 'Position', 'Work Environment': 'Working Location', 'Full-Time or Contract': 'Emp. Type',\n",
    "                       'Employee ID': 'Emp. ID', 'Employee Status': 'Active_Inactive', 'Termination Year': 'Term Year'})\n",
    "\n",
    "# Print the updated DataFrame\n",
    "print(df)"
   ]
  },
  {
   "cell_type": "code",
   "execution_count": 27,
   "id": "8e5333bc-6b17-4034-8c22-67fdd4974325",
   "metadata": {},
   "outputs": [],
   "source": [
    "df.to_csv('people_data_complete.csv', index=False)"
   ]
  },
  {
   "cell_type": "code",
   "execution_count": 28,
   "id": "cb9cce51-3058-4a60-bb01-eaa710800947",
   "metadata": {},
   "outputs": [],
   "source": [
    "# import dataframe\n",
    "df = pd.read_csv(\"people_data_complete.csv\")"
   ]
  },
  {
   "cell_type": "code",
   "execution_count": 29,
   "id": "c0160c79-885a-493f-a082-590c9beda256",
   "metadata": {},
   "outputs": [
    {
     "name": "stdout",
     "output_type": "stream",
     "text": [
      "         Emp. ID  Department  Position  Gender  Sexual Orientation  Race  Age  \\\n",
      "0     4566010041          11         0       0                   0     0   32   \n",
      "1     7563277100          12         1       0                   0     0   26   \n",
      "2      901750037           3         1       0                   0     0   26   \n",
      "3     5969184373           6         1       1                   0     0   40   \n",
      "4     3294917953          12         1       1                   0     1   41   \n",
      "...          ...         ...       ...     ...                 ...   ...  ...   \n",
      "4003  7063732531          11         1       0                   0     4   28   \n",
      "4004  3791440830           7         1       0                   0     0   27   \n",
      "4005  9839227290          12         0       1                   0     0   25   \n",
      "4006  4362113509           5         2       1                   0     4   41   \n",
      "4007           1           2         4       1                   0     0   32   \n",
      "\n",
      "      Education  Working Location  City  ...  Emp. Type  Salary  \\\n",
      "0             1                 0    18  ...          0       2   \n",
      "1             1                 0     3  ...          0       2   \n",
      "2             1                 0     0  ...          0       0   \n",
      "3             1                 0    19  ...          0       2   \n",
      "4             1                 0    15  ...          0       0   \n",
      "...         ...               ...   ...  ...        ...     ...   \n",
      "4003          1                 0     8  ...          0       0   \n",
      "4004          1                 1    11  ...          0       0   \n",
      "4005          2                 0    20  ...          0       2   \n",
      "4006          2                 1    17  ...          0       1   \n",
      "4007          2                 1    11  ...          0       2   \n",
      "\n",
      "      Years of Service  Status  Job Satisfaction  Work Life Balance  \\\n",
      "0                    5       0                 4                  1   \n",
      "1                   10       0                 2                  3   \n",
      "2                    5       0                 3                  3   \n",
      "3                    2       0                 3                  3   \n",
      "4                    8       0                 2                  3   \n",
      "...                ...     ...               ...                ...   \n",
      "4003                 0       1                 2                  3   \n",
      "4004                 4       0                 3                  0   \n",
      "4005                 2       0                 2                  2   \n",
      "4006                 3       0                 3                  1   \n",
      "4007                 5       0                 1                  2   \n",
      "\n",
      "      Years Since Last Promotion  Performance Rating  Hire Year  Term Year  \n",
      "0                              0                   3       2017          0  \n",
      "1                              1                   4       2012          0  \n",
      "2                              0                   3       2017          0  \n",
      "3                              0                   3       2020          0  \n",
      "4                              2                   3       2014          0  \n",
      "...                          ...                 ...        ...        ...  \n",
      "4003                           0                   2       2016       2017  \n",
      "4004                           1                   3       2018          0  \n",
      "4005                           2                   3       2020          0  \n",
      "4006                           3                   3       2019          0  \n",
      "4007                           3                   2       2017          0  \n",
      "\n",
      "[4008 rows x 21 columns]\n"
     ]
    }
   ],
   "source": [
    "# Rename specific columns\n",
    "df = df.rename(columns={'Active_Inactive': 'Status'})\n",
    "# Print the updated DataFrame\n",
    "print(df)"
   ]
  },
  {
   "cell_type": "code",
   "execution_count": 30,
   "id": "aa5dfdf8-6fd0-4efa-9d6d-4a74b4ab1e90",
   "metadata": {},
   "outputs": [],
   "source": [
    "df.to_csv('people_data_complete.csv', index=False)"
   ]
  },
  {
   "cell_type": "code",
   "execution_count": 31,
   "id": "dabfc78a-09c4-4086-a8a2-2037343840aa",
   "metadata": {},
   "outputs": [
    {
     "name": "stdout",
     "output_type": "stream",
     "text": [
      "<class 'pandas.core.frame.DataFrame'>\n",
      "RangeIndex: 4008 entries, 0 to 4007\n",
      "Data columns (total 21 columns):\n",
      " #   Column                      Non-Null Count  Dtype\n",
      "---  ------                      --------------  -----\n",
      " 0   Emp. ID                     4008 non-null   int64\n",
      " 1   Department                  4008 non-null   int64\n",
      " 2   Position                    4008 non-null   int64\n",
      " 3   Gender                      4008 non-null   int64\n",
      " 4   Sexual Orientation          4008 non-null   int64\n",
      " 5   Race                        4008 non-null   int64\n",
      " 6   Age                         4008 non-null   int64\n",
      " 7   Education                   4008 non-null   int64\n",
      " 8   Working Location            4008 non-null   int64\n",
      " 9   City                        4008 non-null   int64\n",
      " 10  Marital Status              4008 non-null   int64\n",
      " 11  Emp. Type                   4008 non-null   int64\n",
      " 12  Salary                      4008 non-null   int64\n",
      " 13  Years of Service            4008 non-null   int64\n",
      " 14  Status                      4008 non-null   int64\n",
      " 15  Job Satisfaction            4008 non-null   int64\n",
      " 16  Work Life Balance           4008 non-null   int64\n",
      " 17  Years Since Last Promotion  4008 non-null   int64\n",
      " 18  Performance Rating          4008 non-null   int64\n",
      " 19  Hire Year                   4008 non-null   int64\n",
      " 20  Term Year                   4008 non-null   int64\n",
      "dtypes: int64(21)\n",
      "memory usage: 657.7 KB\n"
     ]
    }
   ],
   "source": [
    "# import dataframe\n",
    "df = pd.read_csv(\"people_data_complete.csv\")\n",
    "df.info()"
   ]
  },
  {
   "cell_type": "code",
   "execution_count": null,
   "id": "1a2a4817-74b0-49e6-8f21-2bef04620494",
   "metadata": {},
   "outputs": [],
   "source": []
  }
 ],
 "metadata": {
  "kernelspec": {
   "display_name": "Python 3 (ipykernel)",
   "language": "python",
   "name": "python3"
  },
  "language_info": {
   "codemirror_mode": {
    "name": "ipython",
    "version": 3
   },
   "file_extension": ".py",
   "mimetype": "text/x-python",
   "name": "python",
   "nbconvert_exporter": "python",
   "pygments_lexer": "ipython3",
   "version": "3.10.8"
  }
 },
 "nbformat": 4,
 "nbformat_minor": 5
}
